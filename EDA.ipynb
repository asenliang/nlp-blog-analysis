{
 "cells": [
  {
   "cell_type": "code",
   "execution_count": 83,
   "metadata": {},
   "outputs": [],
   "source": [
    "import os\n",
    "import pandas as pd\n",
    "\n",
    "import seaborn as sns\n",
    "import matplotlib.pyplot as plt\n",
    "\n",
    "%matplotlib inline"
   ]
  },
  {
   "cell_type": "code",
   "execution_count": 73,
   "metadata": {},
   "outputs": [],
   "source": [
    "path = '/Users/asen/Downloads/blogs/'\n",
    "file_stats = pd.DataFrame([name.split('.')[:-1] for name in os.listdir(path)], \n",
    "                          columns = ['Id', 'Sex', 'Age','Industry','Constellation'])"
   ]
  },
  {
   "cell_type": "code",
   "execution_count": 87,
   "metadata": {},
   "outputs": [
    {
     "data": {
      "text/html": [
       "<div>\n",
       "<style scoped>\n",
       "    .dataframe tbody tr th:only-of-type {\n",
       "        vertical-align: middle;\n",
       "    }\n",
       "\n",
       "    .dataframe tbody tr th {\n",
       "        vertical-align: top;\n",
       "    }\n",
       "\n",
       "    .dataframe thead th {\n",
       "        text-align: right;\n",
       "    }\n",
       "</style>\n",
       "<table border=\"1\" class=\"dataframe\">\n",
       "  <thead>\n",
       "    <tr style=\"text-align: right;\">\n",
       "      <th></th>\n",
       "      <th>Id</th>\n",
       "      <th>Sex</th>\n",
       "      <th>Age</th>\n",
       "      <th>Industry</th>\n",
       "      <th>Constellation</th>\n",
       "    </tr>\n",
       "  </thead>\n",
       "  <tbody>\n",
       "    <tr>\n",
       "      <th>0</th>\n",
       "      <td>1000331</td>\n",
       "      <td>female</td>\n",
       "      <td>37</td>\n",
       "      <td>None</td>\n",
       "      <td>Leo</td>\n",
       "    </tr>\n",
       "    <tr>\n",
       "      <th>1</th>\n",
       "      <td>1000866</td>\n",
       "      <td>female</td>\n",
       "      <td>17</td>\n",
       "      <td>Student</td>\n",
       "      <td>Libra</td>\n",
       "    </tr>\n",
       "    <tr>\n",
       "      <th>2</th>\n",
       "      <td>1004904</td>\n",
       "      <td>male</td>\n",
       "      <td>23</td>\n",
       "      <td>Arts</td>\n",
       "      <td>Capricorn</td>\n",
       "    </tr>\n",
       "    <tr>\n",
       "      <th>3</th>\n",
       "      <td>1005076</td>\n",
       "      <td>female</td>\n",
       "      <td>25</td>\n",
       "      <td>Arts</td>\n",
       "      <td>Cancer</td>\n",
       "    </tr>\n",
       "    <tr>\n",
       "      <th>4</th>\n",
       "      <td>1005545</td>\n",
       "      <td>male</td>\n",
       "      <td>25</td>\n",
       "      <td>Engineering</td>\n",
       "      <td>Sagittarius</td>\n",
       "    </tr>\n",
       "  </tbody>\n",
       "</table>\n",
       "</div>"
      ],
      "text/plain": [
       "        Id     Sex  Age     Industry Constellation\n",
       "0  1000331  female   37         None           Leo\n",
       "1  1000866  female   17      Student         Libra\n",
       "2  1004904    male   23         Arts     Capricorn\n",
       "3  1005076  female   25         Arts        Cancer\n",
       "4  1005545    male   25  Engineering   Sagittarius"
      ]
     },
     "execution_count": 87,
     "metadata": {},
     "output_type": "execute_result"
    }
   ],
   "source": [
    "def ind_unk(x):\n",
    "    if x == 'indUnk': return None\n",
    "    return x\n",
    "\n",
    "file_stats.Age = file_stats.Age.astype(int)\n",
    "file_stats.Industry = file_stats.Industry.map(ind_unk)\n",
    "file_stats.head()"
   ]
  },
  {
   "cell_type": "code",
   "execution_count": 88,
   "metadata": {
    "scrolled": true
   },
   "outputs": [
    {
     "name": "stdout",
     "output_type": "stream",
     "text": [
      "<class 'pandas.core.frame.DataFrame'>\n",
      "RangeIndex: 19320 entries, 0 to 19319\n",
      "Data columns (total 5 columns):\n",
      "Id               19320 non-null object\n",
      "Sex              19320 non-null object\n",
      "Age              19320 non-null int64\n",
      "Industry         12493 non-null object\n",
      "Constellation    19320 non-null object\n",
      "dtypes: int64(1), object(4)\n",
      "memory usage: 754.8+ KB\n"
     ]
    }
   ],
   "source": [
    "file_stats.info()"
   ]
  },
  {
   "cell_type": "code",
   "execution_count": 89,
   "metadata": {},
   "outputs": [
    {
     "data": {
      "text/plain": [
       "female    9660\n",
       "male      9660\n",
       "Name: Sex, dtype: int64"
      ]
     },
     "execution_count": 89,
     "metadata": {},
     "output_type": "execute_result"
    }
   ],
   "source": [
    "pd.value_counts(file_stats.Sex)"
   ]
  },
  {
   "cell_type": "code",
   "execution_count": 90,
   "metadata": {},
   "outputs": [
    {
     "data": {
      "text/plain": [
       "Student                    5120\n",
       "Education                   980\n",
       "Technology                  943\n",
       "Arts                        721\n",
       "Communications-Media        479\n",
       "Internet                    397\n",
       "Non-Profit                  372\n",
       "Engineering                 312\n",
       "Government                  236\n",
       "Law                         197\n",
       "Consulting                  191\n",
       "Science                     184\n",
       "Marketing                   180\n",
       "BusinessServices            163\n",
       "Publishing                  150\n",
       "Advertising                 145\n",
       "Religion                    139\n",
       "Telecommunications          119\n",
       "Military                    116\n",
       "Banking                     112\n",
       "Accounting                  105\n",
       "Fashion                      98\n",
       "Tourism                      94\n",
       "HumanResources               94\n",
       "Transportation               91\n",
       "Sports-Recreation            90\n",
       "Manufacturing                87\n",
       "Architecture                 69\n",
       "Chemicals                    62\n",
       "Biotech                      57\n",
       "LawEnforcement-Security      57\n",
       "RealEstate                   55\n",
       "Museums-Libraries            55\n",
       "Construction                 55\n",
       "Automotive                   54\n",
       "Agriculture                  36\n",
       "InvestmentBanking            33\n",
       "Environment                  28\n",
       "Maritime                     17\n",
       "Name: Industry, dtype: int64"
      ]
     },
     "execution_count": 90,
     "metadata": {},
     "output_type": "execute_result"
    }
   ],
   "source": [
    "pd.value_counts(file_stats.Industry)"
   ]
  },
  {
   "cell_type": "markdown",
   "metadata": {},
   "source": [
    "### Distribution by Constellation"
   ]
  },
  {
   "cell_type": "code",
   "execution_count": 91,
   "metadata": {},
   "outputs": [
    {
     "data": {
      "image/png": "[encoded data removed]",
      "text/plain": [
       "<Figure size 864x432 with 1 Axes>"
      ]
     },
     "metadata": {},
     "output_type": "display_data"
    }
   ],
   "source": [
    "plt.figure(figsize=(12, 6))\n",
    "sns.countplot(x='Constellation', data=file_stats, palette='RdBu_r')\n",
    "plt.title('Distribution by Constellation')\n",
    "plt.show()"
   ]
  },
  {
   "cell_type": "markdown",
   "metadata": {},
   "source": [
    "### Distribution by Age"
   ]
  },
  {
   "cell_type": "code",
   "execution_count": 92,
   "metadata": {},
   "outputs": [
    {
     "name": "stderr",
     "output_type": "stream",
     "text": [
      "/anaconda/envs/nlp/lib/python3.6/site-packages/matplotlib/axes/_axes.py:6462: UserWarning: The 'normed' kwarg is deprecated, and has been replaced by the 'density' kwarg.\n",
      "  warnings.warn(\"The 'normed' kwarg is deprecated, and has been \"\n"
     ]
    },
    {
     "data": {
      "image/png": "[encoded data removed]",
      "text/plain": [
       "<Figure size 864x432 with 1 Axes>"
      ]
     },
     "metadata": {},
     "output_type": "display_data"
    }
   ],
   "source": [
    "plt.figure(figsize=(12, 6))\n",
    "sns.distplot(file_stats.Age)\n",
    "plt.title('Age Distribution of Bloggers')\n",
    "plt.show()"
   ]
  },
  {
   "cell_type": "code",
   "execution_count": 93,
   "metadata": {},
   "outputs": [],
   "source": [
    "file_stats.to_csv('file_stats.csv', index=False)"
   ]
  },
  {
   "cell_type": "code",
   "execution_count": null,
   "metadata": {},
   "outputs": [],
   "source": []
  }
 ],
 "metadata": {
  "kernelspec": {
   "display_name": "Python 3",
   "language": "python",
   "name": "python3"
  },
  "language_info": {
   "codemirror_mode": {
    "name": "ipython",
    "version": 3
   },
   "file_extension": ".py",
   "mimetype": "text/x-python",
   "name": "python",
   "nbconvert_exporter": "python",
   "pygments_lexer": "ipython3",
   "version": "3.6.0"
  }
 },
 "nbformat": 4,
 "nbformat_minor": 2
}
