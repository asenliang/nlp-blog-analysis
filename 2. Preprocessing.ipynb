{
 "cells": [
  {
   "cell_type": "markdown",
   "metadata": {},
   "source": [
    "#### This notebook would clean the orginal xml files and store them back as txt files."
   ]
  },
  {
   "cell_type": "code",
   "execution_count": 6,
   "metadata": {},
   "outputs": [],
   "source": [
    "import re\n",
    "import os\n",
    "import string\n",
    "import nltk\n",
    "\n",
    "from glob import glob\n",
    "import pandas as pd"
   ]
  },
  {
   "cell_type": "code",
   "execution_count": 10,
   "metadata": {},
   "outputs": [],
   "source": [
    "def parse_xml(file_path):\n",
    "    with open(file_path, errors='ignore') as f:\n",
    "        content_list, line = [], f.readline()\n",
    "        while line:\n",
    "            if not (line.startswith('<')): \n",
    "                content_list.append(line)\n",
    "            line = f.readline()\n",
    "    return ' '.join(content_list).replace('&nbsp;', ' ')"
   ]
  },
  {
   "cell_type": "code",
   "execution_count": null,
   "metadata": {},
   "outputs": [],
   "source": [
    "# def tokenize(text):\n",
    "#     regex = re.compile('[' + re.escape(string.punctuation) + '0-9\\\\r\\\\t\\\\n]')\n",
    "#     text = regex.sub(\" \", text.lower())\n",
    "#     words = nltk.word_tokenize(text, 'english', False)\n",
    "#     words = [w for w in words if len(w) > 2 and w not in stop_words.ENGLISH_STOP_WORDS]\n",
    "#     return words"
   ]
  },
  {
   "cell_type": "code",
   "execution_count": 11,
   "metadata": {},
   "outputs": [
    {
     "name": "stdout",
     "output_type": "stream",
     "text": [
      "0.0 %\n",
      "10.0 %\n",
      "20.0 %\n",
      "30.0 %\n",
      "40.0 %\n",
      "50.0 %\n",
      "60.0 %\n",
      "70.0 %\n",
      "80.0 %\n",
      "90.0 %\n",
      "100.0 %\n"
     ]
    }
   ],
   "source": [
    "path = '/Users/asen/Downloads/blogs/'\n",
    "\n",
    "for i,file_name in enumerate(os.listdir(path)):\n",
    "    if i % 1930 == 0: print(i/193,'%')\n",
    "    with open('./clean/'+file_name.split('.')[0], \"w\") as f:\n",
    "        f.write(' '.join(parse_xml(path + file_name).split()))"
   ]
  },
  {
   "cell_type": "code",
   "execution_count": null,
   "metadata": {},
   "outputs": [],
   "source": []
  }
 ],
 "metadata": {
  "kernelspec": {
   "display_name": "Python 3",
   "language": "python",
   "name": "python3"
  },
  "language_info": {
   "codemirror_mode": {
    "name": "ipython",
    "version": 3
   },
   "file_extension": ".py",
   "mimetype": "text/x-python",
   "name": "python",
   "nbconvert_exporter": "python",
   "pygments_lexer": "ipython3",
   "version": "3.6.0"
  }
 },
 "nbformat": 4,
 "nbformat_minor": 2
}
