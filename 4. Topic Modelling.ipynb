{
 "cells": [
  {
   "cell_type": "code",
   "execution_count": 93,
   "metadata": {},
   "outputs": [],
   "source": [
    "import os\n",
    "from glob import glob\n",
    "\n",
    "import re\n",
    "import nltk\n",
    "import string\n",
    "import pandas as pd\n",
    "\n",
    "from tqdm import tqdm_notebook as tqdm\n",
    "from sklearn.feature_extraction import stop_words"
   ]
  },
  {
   "cell_type": "code",
   "execution_count": 94,
   "metadata": {},
   "outputs": [
    {
     "data": {
      "text/html": [
       "<div>\n",
       "<style scoped>\n",
       "    .dataframe tbody tr th:only-of-type {\n",
       "        vertical-align: middle;\n",
       "    }\n",
       "\n",
       "    .dataframe tbody tr th {\n",
       "        vertical-align: top;\n",
       "    }\n",
       "\n",
       "    .dataframe thead th {\n",
       "        text-align: right;\n",
       "    }\n",
       "</style>\n",
       "<table border=\"1\" class=\"dataframe\">\n",
       "  <thead>\n",
       "    <tr style=\"text-align: right;\">\n",
       "      <th></th>\n",
       "      <th>Id</th>\n",
       "      <th>Sex</th>\n",
       "      <th>Age</th>\n",
       "      <th>Industry</th>\n",
       "      <th>Constellation</th>\n",
       "      <th>sentiment</th>\n",
       "      <th>Sentiment</th>\n",
       "    </tr>\n",
       "  </thead>\n",
       "  <tbody>\n",
       "    <tr>\n",
       "      <th>0</th>\n",
       "      <td>1000331</td>\n",
       "      <td>female</td>\n",
       "      <td>37</td>\n",
       "      <td>NaN</td>\n",
       "      <td>Leo</td>\n",
       "      <td>0.151130</td>\n",
       "      <td>0.151130</td>\n",
       "    </tr>\n",
       "    <tr>\n",
       "      <th>1</th>\n",
       "      <td>1000866</td>\n",
       "      <td>female</td>\n",
       "      <td>17</td>\n",
       "      <td>Student</td>\n",
       "      <td>Libra</td>\n",
       "      <td>0.087342</td>\n",
       "      <td>0.087342</td>\n",
       "    </tr>\n",
       "    <tr>\n",
       "      <th>2</th>\n",
       "      <td>1004904</td>\n",
       "      <td>male</td>\n",
       "      <td>23</td>\n",
       "      <td>Arts</td>\n",
       "      <td>Capricorn</td>\n",
       "      <td>0.051705</td>\n",
       "      <td>0.051705</td>\n",
       "    </tr>\n",
       "    <tr>\n",
       "      <th>3</th>\n",
       "      <td>1005076</td>\n",
       "      <td>female</td>\n",
       "      <td>25</td>\n",
       "      <td>Arts</td>\n",
       "      <td>Cancer</td>\n",
       "      <td>0.016679</td>\n",
       "      <td>0.016679</td>\n",
       "    </tr>\n",
       "    <tr>\n",
       "      <th>4</th>\n",
       "      <td>1005545</td>\n",
       "      <td>male</td>\n",
       "      <td>25</td>\n",
       "      <td>Engineering</td>\n",
       "      <td>Sagittarius</td>\n",
       "      <td>0.123000</td>\n",
       "      <td>0.123000</td>\n",
       "    </tr>\n",
       "  </tbody>\n",
       "</table>\n",
       "</div>"
      ],
      "text/plain": [
       "        Id     Sex  Age     Industry Constellation  sentiment  Sentiment\n",
       "0  1000331  female   37          NaN           Leo   0.151130   0.151130\n",
       "1  1000866  female   17      Student         Libra   0.087342   0.087342\n",
       "2  1004904    male   23         Arts     Capricorn   0.051705   0.051705\n",
       "3  1005076  female   25         Arts        Cancer   0.016679   0.016679\n",
       "4  1005545    male   25  Engineering   Sagittarius   0.123000   0.123000"
      ]
     },
     "execution_count": 94,
     "metadata": {},
     "output_type": "execute_result"
    }
   ],
   "source": [
    "file_stats = pd.read_csv('./file_stats_sentiment.csv', dtype={'Id':'object'})\n",
    "file_stats.head()"
   ]
  },
  {
   "cell_type": "code",
   "execution_count": 95,
   "metadata": {},
   "outputs": [],
   "source": [
    "def tokenize(file_path):\n",
    "    with open(file_path, errors='ignore') as f:\n",
    "        text = f.readline()\n",
    "    regex = re.compile('[' + re.escape(string.punctuation) + '0-9\\\\r\\\\t\\\\n]')\n",
    "    text = regex.sub(\" \", text.lower())\n",
    "    words = nltk.word_tokenize(text, 'english', False)\n",
    "    words = [w for w in words if len(w) > 2 and w not in stop_words.ENGLISH_STOP_WORDS]\n",
    "    words = [w for (w,l) in nltk.pos_tag(words) if l == 'NN']\n",
    "    return ' '.join(words)"
   ]
  },
  {
   "cell_type": "code",
   "execution_count": 96,
   "metadata": {},
   "outputs": [
    {
     "data": {
      "application/vnd.jupyter.widget-view+json": {
       "model_id": "a9455cd128d34fadbdde3b3a7a166683",
       "version_major": 2,
       "version_minor": 0
      },
      "text/plain": [
       "HBox(children=(IntProgress(value=0, max=19320), HTML(value='')))"
      ]
     },
     "metadata": {},
     "output_type": "display_data"
    }
   ],
   "source": [
    "mapping = {}\n",
    "for doc in tqdm(os.listdir('./clean/')):\n",
    "    mapping[doc] = tokenize('./clean/'+doc)"
   ]
  },
  {
   "cell_type": "code",
   "execution_count": 97,
   "metadata": {},
   "outputs": [
    {
     "data": {
      "text/html": [
       "<div>\n",
       "<style scoped>\n",
       "    .dataframe tbody tr th:only-of-type {\n",
       "        vertical-align: middle;\n",
       "    }\n",
       "\n",
       "    .dataframe tbody tr th {\n",
       "        vertical-align: top;\n",
       "    }\n",
       "\n",
       "    .dataframe thead th {\n",
       "        text-align: right;\n",
       "    }\n",
       "</style>\n",
       "<table border=\"1\" class=\"dataframe\">\n",
       "  <thead>\n",
       "    <tr style=\"text-align: right;\">\n",
       "      <th></th>\n",
       "      <th>Id</th>\n",
       "      <th>Sex</th>\n",
       "      <th>Age</th>\n",
       "      <th>Industry</th>\n",
       "      <th>Constellation</th>\n",
       "      <th>sentiment</th>\n",
       "      <th>Sentiment</th>\n",
       "      <th>text</th>\n",
       "    </tr>\n",
       "  </thead>\n",
       "  <tbody>\n",
       "    <tr>\n",
       "      <th>0</th>\n",
       "      <td>1000331</td>\n",
       "      <td>female</td>\n",
       "      <td>37</td>\n",
       "      <td>NaN</td>\n",
       "      <td>Leo</td>\n",
       "      <td>0.151130</td>\n",
       "      <td>0.151130</td>\n",
       "      <td>morning home bed book golf green mosquitos wee...</td>\n",
       "    </tr>\n",
       "    <tr>\n",
       "      <th>1</th>\n",
       "      <td>1000866</td>\n",
       "      <td>female</td>\n",
       "      <td>17</td>\n",
       "      <td>Student</td>\n",
       "      <td>Libra</td>\n",
       "      <td>0.087342</td>\n",
       "      <td>0.087342</td>\n",
       "      <td>yeah sorry weekend yesterday time music marchi...</td>\n",
       "    </tr>\n",
       "    <tr>\n",
       "      <th>2</th>\n",
       "      <td>1004904</td>\n",
       "      <td>male</td>\n",
       "      <td>23</td>\n",
       "      <td>Arts</td>\n",
       "      <td>Capricorn</td>\n",
       "      <td>0.051705</td>\n",
       "      <td>0.051705</td>\n",
       "      <td>let head ijust night law purchase boogie band ...</td>\n",
       "    </tr>\n",
       "    <tr>\n",
       "      <th>3</th>\n",
       "      <td>1005076</td>\n",
       "      <td>female</td>\n",
       "      <td>25</td>\n",
       "      <td>Arts</td>\n",
       "      <td>Cancer</td>\n",
       "      <td>0.016679</td>\n",
       "      <td>0.016679</td>\n",
       "      <td>mention deal night music smoke park car mother...</td>\n",
       "    </tr>\n",
       "    <tr>\n",
       "      <th>4</th>\n",
       "      <td>1005545</td>\n",
       "      <td>male</td>\n",
       "      <td>25</td>\n",
       "      <td>Engineering</td>\n",
       "      <td>Sagittarius</td>\n",
       "      <td>0.123000</td>\n",
       "      <td>0.123000</td>\n",
       "      <td>business technology article vehicle business a...</td>\n",
       "    </tr>\n",
       "  </tbody>\n",
       "</table>\n",
       "</div>"
      ],
      "text/plain": [
       "        Id     Sex  Age     Industry Constellation  sentiment  Sentiment  \\\n",
       "0  1000331  female   37          NaN           Leo   0.151130   0.151130   \n",
       "1  1000866  female   17      Student         Libra   0.087342   0.087342   \n",
       "2  1004904    male   23         Arts     Capricorn   0.051705   0.051705   \n",
       "3  1005076  female   25         Arts        Cancer   0.016679   0.016679   \n",
       "4  1005545    male   25  Engineering   Sagittarius   0.123000   0.123000   \n",
       "\n",
       "                                                text  \n",
       "0  morning home bed book golf green mosquitos wee...  \n",
       "1  yeah sorry weekend yesterday time music marchi...  \n",
       "2  let head ijust night law purchase boogie band ...  \n",
       "3  mention deal night music smoke park car mother...  \n",
       "4  business technology article vehicle business a...  "
      ]
     },
     "execution_count": 97,
     "metadata": {},
     "output_type": "execute_result"
    }
   ],
   "source": [
    "file_stats['text'] = file_stats.Id.map(mapping)\n",
    "file_stats.head()"
   ]
  },
  {
   "cell_type": "code",
   "execution_count": 99,
   "metadata": {},
   "outputs": [],
   "source": [
    "file_stats.to_csv('./file_stats_noun.csv', index=False)"
   ]
  },
  {
   "cell_type": "code",
   "execution_count": 100,
   "metadata": {},
   "outputs": [],
   "source": [
    "from sklearn.feature_extraction.text import CountVectorizer\n",
    "from sklearn.decomposition import LatentDirichletAllocation"
   ]
  },
  {
   "cell_type": "markdown",
   "metadata": {},
   "source": [
    "### Topic Modelling by Gender"
   ]
  },
  {
   "cell_type": "markdown",
   "metadata": {},
   "source": [
    "#### Male"
   ]
  },
  {
   "cell_type": "code",
   "execution_count": 101,
   "metadata": {},
   "outputs": [],
   "source": [
    "male = file_stats[file_stats.Sex == 'male'].text\n",
    "male_cv = CountVectorizer()\n",
    "male_sparse = male_cv.fit_transform(male)"
   ]
  },
  {
   "cell_type": "code",
   "execution_count": 109,
   "metadata": {},
   "outputs": [
    {
     "name": "stderr",
     "output_type": "stream",
     "text": [
      "/anaconda/envs/nlp/lib/python3.6/site-packages/sklearn/decomposition/online_lda.py:536: DeprecationWarning: The default value for 'learning_method' will be changed from 'online' to 'batch' in the release 0.20. This warning was introduced in 0.18.\n",
      "  DeprecationWarning)\n"
     ]
    },
    {
     "data": {
      "text/plain": [
       "LatentDirichletAllocation(batch_size=128, doc_topic_prior=None,\n",
       "             evaluate_every=-1, learning_decay=0.7, learning_method=None,\n",
       "             learning_offset=10.0, max_doc_update_iter=100, max_iter=10,\n",
       "             mean_change_tol=0.001, n_components=5, n_jobs=1,\n",
       "             n_topics=None, perp_tol=0.1, random_state=None,\n",
       "             topic_word_prior=None, total_samples=1000000.0, verbose=0)"
      ]
     },
     "execution_count": 109,
     "metadata": {},
     "output_type": "execute_result"
    }
   ],
   "source": [
    "male_lda = LatentDirichletAllocation(n_components=5)\n",
    "male_lda.fit(male_sparse)"
   ]
  },
  {
   "cell_type": "code",
   "execution_count": 123,
   "metadata": {},
   "outputs": [],
   "source": [
    "vocab = male_cv.get_feature_names()\n",
    "\n",
    "n_top_words = 10\n",
    "topic_words = {}\n",
    "\n",
    "for topic, comp in enumerate(male_lda.components_):  \n",
    "    word_idx = np.argsort(comp)[::-1][:n_top_words]\n",
    "    topic_words[topic] = [vocab[i] for i in word_idx]"
   ]
  },
  {
   "cell_type": "code",
   "execution_count": 125,
   "metadata": {},
   "outputs": [
    {
     "name": "stdout",
     "output_type": "stream",
     "text": [
      "['urllink', 'com', 'site', 'time', 'http', 'use', 'information', 'www', 'software', 'computer']\n",
      "['time', 'day', 'night', 'way', 'work', 'today', 'don', 'life', 'thing', 'year']\n",
      "['time', 'today', 'day', 'school', 'life', 'love', 'thing', 'home', 'way', 'don']\n",
      "['que', 'jaggonmaster', 'ang', 'mobynathan', 'lang', 'ako', 'pero', 'hehe', 'para', 'aku']\n",
      "['world', 'time', 'war', 'way', 'life', 'urllink', 'president', 'government', 'god', 'bush']\n"
     ]
    }
   ],
   "source": [
    "for t in topic_words:\n",
    "    print(topic_words[t])"
   ]
  },
  {
   "cell_type": "markdown",
   "metadata": {},
   "source": [
    "#### Female"
   ]
  },
  {
   "cell_type": "code",
   "execution_count": 113,
   "metadata": {},
   "outputs": [],
   "source": [
    "female = file_stats[file_stats.Sex == 'female'].text\n",
    "female_cv = CountVectorizer()\n",
    "female_sparse = female_cv.fit_transform(female)"
   ]
  },
  {
   "cell_type": "code",
   "execution_count": 114,
   "metadata": {},
   "outputs": [
    {
     "name": "stderr",
     "output_type": "stream",
     "text": [
      "/anaconda/envs/nlp/lib/python3.6/site-packages/sklearn/decomposition/online_lda.py:536: DeprecationWarning: The default value for 'learning_method' will be changed from 'online' to 'batch' in the release 0.20. This warning was introduced in 0.18.\n",
      "  DeprecationWarning)\n"
     ]
    },
    {
     "data": {
      "text/plain": [
       "LatentDirichletAllocation(batch_size=128, doc_topic_prior=None,\n",
       "             evaluate_every=-1, learning_decay=0.7, learning_method=None,\n",
       "             learning_offset=10.0, max_doc_update_iter=100, max_iter=10,\n",
       "             mean_change_tol=0.001, n_components=5, n_jobs=1,\n",
       "             n_topics=None, perp_tol=0.1, random_state=None,\n",
       "             topic_word_prior=None, total_samples=1000000.0, verbose=0)"
      ]
     },
     "execution_count": 114,
     "metadata": {},
     "output_type": "execute_result"
    }
   ],
   "source": [
    "female_lda = LatentDirichletAllocation(n_components=5)\n",
    "female_lda.fit(female_sparse)"
   ]
  },
  {
   "cell_type": "code",
   "execution_count": 130,
   "metadata": {},
   "outputs": [],
   "source": [
    "vocab = female_cv.get_feature_names()\n",
    "\n",
    "n_top_words = 15\n",
    "topic_words = {}\n",
    "\n",
    "for topic, comp in enumerate(female_lda.components_):  \n",
    "    word_idx = np.argsort(comp)[::-1][:n_top_words]\n",
    "    topic_words[topic] = [vocab[i] for i in word_idx]"
   ]
  },
  {
   "cell_type": "code",
   "execution_count": 131,
   "metadata": {},
   "outputs": [
    {
     "name": "stdout",
     "output_type": "stream",
     "text": [
      "['ang', 'ako', 'lang', 'quotejill', 'mga', 'yung', 'pero', 'que', 'quotejoel', 'hindi', 'kung', 'kasi', 'para', 'talaga', 'sem']\n",
      "['urllink', 'world', 'time', 'god', 'book', 'life', 'man', 'way', 'day', 'john', 'war', 'year', 'com', 'church', 'story']\n",
      "['haha', 'time', 'dun', 'coz', 'den', 'day', 'today', 'wan', 'juz', 'home', 'wat', 'haiz', 'cos', 'dat', 'man']\n",
      "['today', 'day', 'time', 'school', 'dont', 'fun', 'thing', 'lol', 'gon', 'love', 'night', 'yeah', 'way', 'home', 'house']\n",
      "['time', 'day', 'today', 'way', 'work', 'night', 'life', 'don', 'thing', 'home', 'week', 'year', 'morning', 'school', 'house']\n"
     ]
    }
   ],
   "source": [
    "for t in topic_words:\n",
    "    print(topic_words[t])"
   ]
  },
  {
   "cell_type": "code",
   "execution_count": null,
   "metadata": {},
   "outputs": [],
   "source": []
  }
 ],
 "metadata": {
  "kernelspec": {
   "display_name": "Python 3",
   "language": "python",
   "name": "python3"
  },
  "language_info": {
   "codemirror_mode": {
    "name": "ipython",
    "version": 3
   },
   "file_extension": ".py",
   "mimetype": "text/x-python",
   "name": "python",
   "nbconvert_exporter": "python",
   "pygments_lexer": "ipython3",
   "version": "3.6.0"
  }
 },
 "nbformat": 4,
 "nbformat_minor": 2
}
